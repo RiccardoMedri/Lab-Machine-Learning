{
  "cells": [
    {
      "cell_type": "markdown",
      "metadata": {
        "id": "D7-Pxxa9Eo1l"
      },
      "source": [
        "# Fondamenti di Pytorch"
      ]
    },
    {
      "cell_type": "markdown",
      "metadata": {
        "id": "r4JLkX8REo1m"
      },
      "source": [
        "## Effettuiamo l'import delle librerie utilizzate nell'esercitazione."
      ]
    },
    {
      "cell_type": "code",
      "execution_count": 2,
      "metadata": {
        "id": "rOlCfr8TEo1m"
      },
      "outputs": [],
      "source": [
        "import torch"
      ]
    },
    {
      "cell_type": "markdown",
      "metadata": {
        "id": "2fb5ejoEEo1m"
      },
      "source": [
        "Di seguito i riferimenti alle pagine di documentazione, sempre utiliti:\n",
        "\n",
        "* Rif: [pytorch](https://pytorch.org/docs/stable/index.html)"
      ]
    },
    {
      "cell_type": "markdown",
      "metadata": {
        "id": "G-1ctxTAEo1m"
      },
      "source": [
        "## _Verificare la presenza del device e' il primo passo per poterlo utilizzare._"
      ]
    },
    {
      "cell_type": "markdown",
      "metadata": {
        "id": "PXjKXB9FEo1n"
      },
      "source": [
        "_pytorch_ mette a disposizione un sotto-modulo, _torch.cuda_, che fornisce metodi dedicati a fare questi controlli.\n",
        "\n",
        "Rif: [torch.cuda](https://pytorch.org/docs/stable/cuda.html)"
      ]
    },
    {
      "cell_type": "markdown",
      "metadata": {
        "id": "Y4kiTLdGEo1n"
      },
      "source": [
        "Per prima cosa controlliamo se un device abilitato ad usare CUDA e' presente. Per farlo utilizziamo il metodo **is_available** che con un valore booleano ci restituisce questa informazione.\n",
        "\n",
        "Rif: [is_available](https://pytorch.org/docs/stable/generated/torch.cuda.is_available.html)"
      ]
    },
    {
      "cell_type": "code",
      "execution_count": 3,
      "metadata": {
        "colab": {
          "base_uri": "https://localhost:8080/"
        },
        "id": "jpXaE7J6Eo1n",
        "outputId": "bbec1c91-e2a7-4d9f-8a78-7d68287e47e5"
      },
      "outputs": [
        {
          "output_type": "stream",
          "name": "stdout",
          "text": [
            "True\n"
          ]
        }
      ],
      "source": [
        "is_gpu_present = torch.cuda.is_available()\n",
        "print(is_gpu_present)\n",
        "\n",
        "# Ulteriore modo di verificare questo, se in Google colab, e' quello di chiederlo direttamente alla console\n",
        "# !nvidia-smi"
      ]
    },
    {
      "cell_type": "code",
      "source": [
        "!nvidia-smi"
      ],
      "metadata": {
        "colab": {
          "base_uri": "https://localhost:8080/"
        },
        "id": "bv_yz6XiExm3",
        "outputId": "3800b480-78f3-43fb-8e87-d8ea994a3433"
      },
      "execution_count": 4,
      "outputs": [
        {
          "output_type": "stream",
          "name": "stdout",
          "text": [
            "Sun Apr  7 10:29:36 2024       \n",
            "+---------------------------------------------------------------------------------------+\n",
            "| NVIDIA-SMI 535.104.05             Driver Version: 535.104.05   CUDA Version: 12.2     |\n",
            "|-----------------------------------------+----------------------+----------------------+\n",
            "| GPU  Name                 Persistence-M | Bus-Id        Disp.A | Volatile Uncorr. ECC |\n",
            "| Fan  Temp   Perf          Pwr:Usage/Cap |         Memory-Usage | GPU-Util  Compute M. |\n",
            "|                                         |                      |               MIG M. |\n",
            "|=========================================+======================+======================|\n",
            "|   0  Tesla T4                       Off | 00000000:00:04.0 Off |                    0 |\n",
            "| N/A   53C    P8              11W /  70W |      3MiB / 15360MiB |      0%      Default |\n",
            "|                                         |                      |                  N/A |\n",
            "+-----------------------------------------+----------------------+----------------------+\n",
            "                                                                                         \n",
            "+---------------------------------------------------------------------------------------+\n",
            "| Processes:                                                                            |\n",
            "|  GPU   GI   CI        PID   Type   Process name                            GPU Memory |\n",
            "|        ID   ID                                                             Usage      |\n",
            "|=======================================================================================|\n",
            "|  No running processes found                                                           |\n",
            "+---------------------------------------------------------------------------------------+\n"
          ]
        }
      ]
    },
    {
      "cell_type": "markdown",
      "metadata": {
        "id": "L7gFSeoJEo1n"
      },
      "source": [
        "Possono essere presenti anche piu' device abilitati nel sistema. Per sapere quanti, il metodo **device_count** ci viene in aiuto.\n",
        "\n",
        "Rif: [device_count](https://pytorch.org/docs/stable/generated/torch.cuda.device_count.html)"
      ]
    },
    {
      "cell_type": "code",
      "execution_count": 5,
      "metadata": {
        "colab": {
          "base_uri": "https://localhost:8080/"
        },
        "id": "TUc_MEfgEo1n",
        "outputId": "5cb80c4f-d0b8-47c4-b1db-ac9271d78789"
      },
      "outputs": [
        {
          "output_type": "execute_result",
          "data": {
            "text/plain": [
              "1"
            ]
          },
          "metadata": {},
          "execution_count": 5
        }
      ],
      "source": [
        "torch.cuda.device_count()"
      ]
    },
    {
      "cell_type": "markdown",
      "metadata": {
        "id": "rFH_j9vWEo1n"
      },
      "source": [
        "## _Quando si ha a disposizione un device, e' possibile interrogarsi sulle sue caratteristiche._"
      ]
    },
    {
      "cell_type": "markdown",
      "metadata": {
        "id": "CpaMDB2yEo1n"
      },
      "source": [
        "Per farlo esistono diversi metodi, sempre messi a disposizione da _torch.cuda_. Di seguito alcuni.\n",
        "\n",
        "* Rif: [get_device_name](https://pytorch.org/docs/stable/generated/torch.cuda.get_device_name.html)\n",
        "* Rif: [get_device_capability](https://pytorch.org/docs/stable/generated/torch.cuda.get_device_capability.html)\n",
        "* Rif: [get_device_properties](https://pytorch.org/docs/stable/generated/torch.cuda.get_device_properties.html)"
      ]
    },
    {
      "cell_type": "markdown",
      "metadata": {
        "id": "3tWuz8eXEo1o"
      },
      "source": [
        "Ognuno di questi metodi richiede come parametro l'indice (numerico) che rappresenta il device. Nel caso di un dispositivo solo disponibile, sara' **0**."
      ]
    },
    {
      "cell_type": "code",
      "execution_count": 6,
      "metadata": {
        "colab": {
          "base_uri": "https://localhost:8080/",
          "height": 35
        },
        "id": "cptQY0xmEo1o",
        "outputId": "4f3b4962-a675-42e6-b264-a1128a17f55d"
      },
      "outputs": [
        {
          "output_type": "execute_result",
          "data": {
            "text/plain": [
              "'Tesla T4'"
            ],
            "application/vnd.google.colaboratory.intrinsic+json": {
              "type": "string"
            }
          },
          "metadata": {},
          "execution_count": 6
        }
      ],
      "source": [
        "torch.cuda.get_device_name(0)"
      ]
    },
    {
      "cell_type": "code",
      "execution_count": 7,
      "metadata": {
        "colab": {
          "base_uri": "https://localhost:8080/"
        },
        "id": "F8z9o0O7Eo1o",
        "outputId": "f1dc314b-1c2c-44bb-dbad-ce76a69aec50"
      },
      "outputs": [
        {
          "output_type": "execute_result",
          "data": {
            "text/plain": [
              "(7, 5)"
            ]
          },
          "metadata": {},
          "execution_count": 7
        }
      ],
      "source": [
        "torch.cuda.get_device_capability(0)"
      ]
    },
    {
      "cell_type": "code",
      "execution_count": 8,
      "metadata": {
        "colab": {
          "base_uri": "https://localhost:8080/"
        },
        "id": "2rkb17G4Eo1o",
        "outputId": "bb95f69b-21f8-4f1b-ba90-e64de8e489cb"
      },
      "outputs": [
        {
          "output_type": "execute_result",
          "data": {
            "text/plain": [
              "_CudaDeviceProperties(name='Tesla T4', major=7, minor=5, total_memory=15102MB, multi_processor_count=40)"
            ]
          },
          "metadata": {},
          "execution_count": 8
        }
      ],
      "source": [
        "torch.cuda.get_device_properties(0)"
      ]
    }
  ],
  "metadata": {
    "kernelspec": {
      "display_name": "Python 3",
      "name": "python3"
    },
    "language_info": {
      "codemirror_mode": {
        "name": "ipython",
        "version": 3
      },
      "file_extension": ".py",
      "mimetype": "text/x-python",
      "name": "python",
      "nbconvert_exporter": "python",
      "pygments_lexer": "ipython3",
      "version": "3.10.4"
    },
    "orig_nbformat": 4,
    "vscode": {
      "interpreter": {
        "hash": "55b72797edd57f58696da9ac5b5536b8813fefe094e8c8c02c797501a07dae2a"
      }
    },
    "colab": {
      "provenance": [],
      "gpuType": "T4"
    },
    "accelerator": "GPU"
  },
  "nbformat": 4,
  "nbformat_minor": 0
}