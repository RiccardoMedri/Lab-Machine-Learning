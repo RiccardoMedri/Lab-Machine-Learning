{
 "cells": [
  {
   "attachments": {},
   "cell_type": "markdown",
   "metadata": {},
   "source": [
    "# Fondamenti di PyTorch"
   ]
  },
  {
   "attachments": {},
   "cell_type": "markdown",
   "metadata": {},
   "source": [
    "## Effettuiamo l'import delle librerie utilizzate nell'esercitazione."
   ]
  },
  {
   "cell_type": "code",
   "execution_count": null,
   "metadata": {},
   "outputs": [],
   "source": [
    "import pandas as pd\n",
    "import matplotlib.pyplot as plt\n",
    "import numpy as np\n",
    "import seaborn as sns\n",
    "%matplotlib inline"
   ]
  },
  {
   "attachments": {},
   "cell_type": "markdown",
   "metadata": {},
   "source": [
    "Di seguito i riferimenti alle pagine di documentazione, sempre utiliti:\n",
    "\n",
    "* Rif: [numpy](https://numpy.org/doc/)\n",
    "* Rif: [pandas](https://pandas.pydata.org/docs/user_guide/index.html)\n",
    "* Rif: [matplotlib](https://matplotlib.org/stable/index.html)"
   ]
  },
  {
   "attachments": {},
   "cell_type": "markdown",
   "metadata": {},
   "source": [
    "## _Carichiamo i dati dal csv._"
   ]
  },
  {
   "attachments": {},
   "cell_type": "markdown",
   "metadata": {},
   "source": [
    "Partiamo indicando il file strutturato, _csv_, da analizzare."
   ]
  },
  {
   "cell_type": "code",
   "execution_count": null,
   "metadata": {},
   "outputs": [],
   "source": [
    "data_path = 'data.csv'"
   ]
  },
  {
   "attachments": {},
   "cell_type": "markdown",
   "metadata": {},
   "source": [
    "E procediamo alla lettura."
   ]
  },
  {
   "cell_type": "code",
   "execution_count": null,
   "metadata": {},
   "outputs": [],
   "source": [
    "df = pd.read_csv(data_path)"
   ]
  },
  {
   "attachments": {},
   "cell_type": "markdown",
   "metadata": {},
   "source": [
    "## _Analisi delle distribuzioni di età dei passeggeri del Titanic._"
   ]
  },
  {
   "cell_type": "markdown",
   "metadata": {},
   "source": [
    "Posso effettuare analisi puntuali e manuali su una colonna."
   ]
  },
  {
   "cell_type": "code",
   "execution_count": null,
   "metadata": {},
   "outputs": [],
   "source": [
    "column_name = 'Age'"
   ]
  },
  {
   "cell_type": "code",
   "execution_count": null,
   "metadata": {},
   "outputs": [],
   "source": [
    "mean = df[column_name].mean()\n",
    "median = df[column_name].median()\n",
    "std = df[column_name].std()\n",
    "\n",
    "print(f'Colonna: {column_name}:')\n",
    "print(f'|__Mean   : {mean:.2f}')\n",
    "print(f'|__Median : {median:.2f}')\n",
    "print(f'|__Std    : {std:.2f}')"
   ]
  },
  {
   "cell_type": "markdown",
   "metadata": {},
   "source": [
    "Avrei potuto anche chiedere direttamente queste informazioni."
   ]
  },
  {
   "cell_type": "code",
   "execution_count": null,
   "metadata": {},
   "outputs": [],
   "source": [
    "df[column_name].describe()"
   ]
  },
  {
   "cell_type": "markdown",
   "metadata": {},
   "source": [
    "O, addirittura, graficarle in maniere visiva e piu' intuitiva."
   ]
  },
  {
   "cell_type": "code",
   "execution_count": null,
   "metadata": {},
   "outputs": [],
   "source": [
    "plt.subplots(figsize=(10, 10))\n",
    "sns.boxenplot(data=df[column_name]);"
   ]
  },
  {
   "attachments": {},
   "cell_type": "markdown",
   "metadata": {},
   "source": [
    "## _Analisi della relazione tra la classe dei passeggeri e la sopravvivenza._"
   ]
  },
  {
   "cell_type": "code",
   "execution_count": null,
   "metadata": {},
   "outputs": [],
   "source": [
    "# Calcola la percentuale di sopravvivenza per ogni classe\n",
    "survival_rates = df.groupby('Pclass')['Survived'].mean() * 100\n",
    "\n",
    "# Visualizza i risultati\n",
    "print(\"Percentuale di sopravvivenza per classe:\")\n",
    "print(survival_rates)"
   ]
  },
  {
   "attachments": {},
   "cell_type": "markdown",
   "metadata": {},
   "source": [
    "## _Analisi della distribuzione del sesso dei passeggeri e della relazione tra il sesso e la sopravvivenza._"
   ]
  },
  {
   "cell_type": "code",
   "execution_count": null,
   "metadata": {},
   "outputs": [],
   "source": [
    "# Calcola la percentuale di sopravvivenza per ogni sesso\n",
    "survival_rates = df.groupby('Sex')['Survived'].mean() * 100\n",
    "\n",
    "# Visualizza i risultati\n",
    "print(\"Percentuale di sopravvivenza per sesso:\")\n",
    "print(survival_rates)"
   ]
  },
  {
   "attachments": {},
   "cell_type": "markdown",
   "metadata": {},
   "source": [
    "## _Dall'analisi se ne possono estrarre interessanti e informativi grafici._"
   ]
  },
  {
   "attachments": {},
   "cell_type": "markdown",
   "metadata": {},
   "source": [
    "### _Istogramma delle distribuzioni delle età dei passeggeri._"
   ]
  },
  {
   "cell_type": "code",
   "execution_count": null,
   "metadata": {},
   "outputs": [],
   "source": [
    "df['Age'].hist(figsize=(12, 6), bins=[0,10,30,60,80,100], color='lightblue', edgecolor='darkblue', linewidth=2)"
   ]
  },
  {
   "attachments": {},
   "cell_type": "markdown",
   "metadata": {},
   "source": [
    "### _Istogramma della distribuzione delle classi._"
   ]
  },
  {
   "cell_type": "code",
   "execution_count": null,
   "metadata": {},
   "outputs": [],
   "source": [
    "df['Pclass'].hist(figsize=(12, 6), bins=[1, 2, 3, 4], color='lightblue', edgecolor='darkblue', linewidth=2)"
   ]
  },
  {
   "attachments": {},
   "cell_type": "markdown",
   "metadata": {},
   "source": [
    "### _Grafico a torta della distribuzione del sesso dei passeggeri._"
   ]
  },
  {
   "cell_type": "code",
   "execution_count": null,
   "metadata": {},
   "outputs": [],
   "source": [
    "# Calcola la distribuzione del sesso\n",
    "sex_counts = df['Sex'].value_counts()\n",
    "\n",
    "# Crea il grafico a torta\n",
    "plt.figure(figsize=(12, 6))\n",
    "plt.pie(sex_counts, labels=sex_counts.index, autopct='%1.1f%%', textprops={'color':\"w\", 'fontsize': 24})\n",
    "plt.title('Distribuzione del sesso dei passeggeri', size=36, color='white')\n",
    "plt.show()"
   ]
  },
  {
   "attachments": {},
   "cell_type": "markdown",
   "metadata": {},
   "source": [
    "### _Grafico a barre della percentuale di sopravvivenza per ogni classe._"
   ]
  },
  {
   "cell_type": "code",
   "execution_count": null,
   "metadata": {},
   "outputs": [],
   "source": [
    "# Calcola la percentuale di sopravvivenza per ogni classe\n",
    "survival_rates = df.groupby('Pclass')['Survived'].mean() * 100\n",
    "\n",
    "# Crea il grafico a barre\n",
    "plt.figure(figsize=(12, 6))\n",
    "plt.bar(survival_rates.index, survival_rates.values)\n",
    "plt.title('Percentuale di sopravvivenza per classe')\n",
    "plt.xlabel('Classe')\n",
    "plt.ylabel('Percentuale di sopravvivenza')\n",
    "plt.show()"
   ]
  },
  {
   "attachments": {},
   "cell_type": "markdown",
   "metadata": {},
   "source": [
    "### _Grafico a dispersione dell'età dei passeggeri e della tariffa pagata._"
   ]
  },
  {
   "cell_type": "code",
   "execution_count": null,
   "metadata": {},
   "outputs": [],
   "source": [
    "# Rimuove le righe con valori mancanti\n",
    "df_cleaned = df.dropna(subset=['Age', 'Fare'])\n",
    "\n",
    "# Crea il grafico a dispersione\n",
    "plt.figure(figsize=(12, 6))\n",
    "plt.scatter(df_cleaned['Age'], df_cleaned['Fare'])\n",
    "plt.title('Età dei passeggeri vs tariffa pagata')\n",
    "plt.xlabel('Età')\n",
    "plt.ylabel('Tariffa pagata')\n",
    "plt.show()"
   ]
  },
  {
   "attachments": {},
   "cell_type": "markdown",
   "metadata": {},
   "source": [
    "### _Grafico a barre della percentuale di sopravvivenza per ogni sesso._"
   ]
  },
  {
   "cell_type": "code",
   "execution_count": null,
   "metadata": {},
   "outputs": [],
   "source": [
    "# Calcola la percentuale di sopravvivenza per ogni sesso\n",
    "survival_rates = df.groupby('Sex')['Survived'].mean() * 100\n",
    "\n",
    "# Crea il grafico a barre\n",
    "plt.figure(figsize=(12, 6))\n",
    "plt.bar(survival_rates.index, survival_rates.values)\n",
    "plt.title('Percentuale di sopravvivenza per sesso')\n",
    "plt.xlabel('Sesso')\n",
    "plt.ylabel('Percentuale di sopravvivenza')\n",
    "plt.show()"
   ]
  },
  {
   "attachments": {},
   "cell_type": "markdown",
   "metadata": {},
   "source": [
    "## _Calcolo della correlazione tra le colonne del dataset._"
   ]
  },
  {
   "cell_type": "code",
   "execution_count": null,
   "metadata": {},
   "outputs": [],
   "source": [
    "# Seleziona le colonne di interesse\n",
    "cols = ['Survived', 'Pclass', 'Age', 'SibSp', 'Parch', 'Fare']"
   ]
  },
  {
   "attachments": {},
   "cell_type": "markdown",
   "metadata": {},
   "source": [
    "### _Visualizzare la matrice di correlazione con pandas._"
   ]
  },
  {
   "cell_type": "code",
   "execution_count": null,
   "metadata": {},
   "outputs": [],
   "source": [
    "# Crea la matrice di correlazione\n",
    "corr = df[cols].corr()\n",
    "corr.style.background_gradient(cmap='coolwarm')"
   ]
  }
 ],
 "metadata": {
  "kernelspec": {
   "display_name": "CorsoAI",
   "language": "python",
   "name": "python3"
  },
  "language_info": {
   "codemirror_mode": {
    "name": "ipython",
    "version": 3
   },
   "file_extension": ".py",
   "mimetype": "text/x-python",
   "name": "python",
   "nbconvert_exporter": "python",
   "pygments_lexer": "ipython3",
   "version": "3.12.2"
  },
  "orig_nbformat": 4
 },
 "nbformat": 4,
 "nbformat_minor": 2
}
