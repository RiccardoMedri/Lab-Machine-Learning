{
 "cells": [
  {
   "attachments": {},
   "cell_type": "markdown",
   "metadata": {},
   "source": [
    "# Fondamenti di PyTorch"
   ]
  },
  {
   "attachments": {},
   "cell_type": "markdown",
   "metadata": {},
   "source": [
    "## Effettuiamo l'import delle librerie utilizzate nell'esercitazione."
   ]
  },
  {
   "cell_type": "code",
   "execution_count": null,
   "metadata": {},
   "outputs": [],
   "source": [
    "import pandas as pd\n",
    "import matplotlib.pyplot as plt\n",
    "import seaborn as sns\n",
    "import numpy as np\n",
    "%matplotlib inline"
   ]
  },
  {
   "attachments": {},
   "cell_type": "markdown",
   "metadata": {},
   "source": [
    "Di seguito i riferimenti alle pagine di documentazione, sempre utiliti:\n",
    "\n",
    "* Rif: [numpy](https://numpy.org/doc/)\n",
    "* Rif: [pandas](https://pandas.pydata.org/docs/user_guide/index.html)\n",
    "* Rif: [matplotlib](https://matplotlib.org/stable/index.html)"
   ]
  },
  {
   "attachments": {},
   "cell_type": "markdown",
   "metadata": {},
   "source": [
    "## _Leggere un cvs con pandas._"
   ]
  },
  {
   "attachments": {},
   "cell_type": "markdown",
   "metadata": {},
   "source": [
    "_Pandas_ e' una libreria python open-source utilizzata per la manipolazione, l'analisi e la ristrutturazione dei dati. E' la scelta principale per chi vuole lavorare con dati strutturati, come ad esempio i file _csv_. Sfrutta le potenzialita' di _numpy_ e basa il suo funzionamento su due elementi:\n",
    "* [_Series_](https://pandas.pydata.org/docs/reference/api/pandas.Series.html): per la gestione di dati rappresentati da una struttura 1-dimensionale.\n",
    "\n",
    "* [_DataFrame_](https://pandas.pydata.org/docs/reference/api/pandas.DataFrame.html): per la gestione di dati rappresentati da una struttura 2-dimensionale."
   ]
  },
  {
   "attachments": {},
   "cell_type": "markdown",
   "metadata": {},
   "source": [
    "Partiamo indicando un file strutturato, _csv_, da analizzare."
   ]
  },
  {
   "cell_type": "code",
   "execution_count": null,
   "metadata": {},
   "outputs": [],
   "source": [
    "data_path = 'data.csv'"
   ]
  },
  {
   "attachments": {},
   "cell_type": "markdown",
   "metadata": {},
   "source": [
    "La lettura di un file csv da parte di _pandas_ avviene semplicemente tramite il metodo _read\\_csv_ al quale si passa poi il percorso al file.\n",
    "\n",
    "* Rif: [read_csv](https://pandas.pydata.org/docs/reference/api/pandas.read_csv.html)"
   ]
  },
  {
   "cell_type": "code",
   "execution_count": null,
   "metadata": {},
   "outputs": [],
   "source": [
    "df = pd.read_csv(data_path)"
   ]
  },
  {
   "attachments": {},
   "cell_type": "markdown",
   "metadata": {},
   "source": [
    "Il risultato sara', in questo caso, un oggetto di tipo DataFrame. Verifichiamolo."
   ]
  },
  {
   "cell_type": "code",
   "execution_count": null,
   "metadata": {},
   "outputs": [],
   "source": [
    "print(type(df))"
   ]
  },
  {
   "attachments": {},
   "cell_type": "markdown",
   "metadata": {},
   "source": [
    "## _Del csv e possibile visualizzarne un'anteprima._"
   ]
  },
  {
   "attachments": {},
   "cell_type": "markdown",
   "metadata": {},
   "source": [
    "Per visualizzare, ad esempio, le prime _n_ righe, si utilizza il metodo _head_ al quale va indicato il numero _n_ desiderato.\n",
    "\n",
    "* Rif: [head](https://pandas.pydata.org/docs/reference/api/pandas.DataFrame.head.html)"
   ]
  },
  {
   "cell_type": "code",
   "execution_count": null,
   "metadata": {},
   "outputs": [],
   "source": [
    "n = 5\n",
    "df.head(n)"
   ]
  },
  {
   "attachments": {},
   "cell_type": "markdown",
   "metadata": {},
   "source": [
    "## _Del csv e' possibile fare una analisi macroscopica._"
   ]
  },
  {
   "attachments": {},
   "cell_type": "markdown",
   "metadata": {},
   "source": [
    "Se ne possono conoscere moltissime informazioni. Di seguito ne vediamo alcune.\n",
    "\n",
    "* Rif: [DataFrame](https://pandas.pydata.org/docs/reference/frame.html)"
   ]
  },
  {
   "cell_type": "code",
   "execution_count": null,
   "metadata": {},
   "outputs": [],
   "source": [
    "# Una raccolta di informazioni generali.\n",
    "df.info()"
   ]
  },
  {
   "cell_type": "markdown",
   "metadata": {},
   "source": [
    "Scopriamo, ad esempio, che non di tutti i passeggeri si conosce l'eta'."
   ]
  },
  {
   "cell_type": "code",
   "execution_count": null,
   "metadata": {},
   "outputs": [],
   "source": [
    "# Il tipo di dato per colonna.\n",
    "df.dtypes"
   ]
  },
  {
   "cell_type": "code",
   "execution_count": null,
   "metadata": {},
   "outputs": [],
   "source": [
    "# Il numero di dimensioni e le dimensioni stesse.\n",
    "print(f'DataFrame has {df.ndim} dimensions and size: {df.shape}')"
   ]
  },
  {
   "cell_type": "code",
   "execution_count": null,
   "metadata": {},
   "outputs": [],
   "source": [
    "# Una lista delle colonne\n",
    "for i, c in enumerate(df.columns):\n",
    "    print(f'Column {i+1}: {c}')"
   ]
  },
  {
   "cell_type": "code",
   "execution_count": null,
   "metadata": {},
   "outputs": [],
   "source": [
    "# Una descrizione degli assi per ogni dimensione.\n",
    "# - asse 1, le righe.\n",
    "# - asse 2, le colonne.\n",
    "for i, a in enumerate(df.axes):\n",
    "    print(f'Axis {i+1}: {a}')"
   ]
  },
  {
   "cell_type": "code",
   "execution_count": null,
   "metadata": {},
   "outputs": [],
   "source": [
    "# Il numero di elementi.\n",
    "df.size"
   ]
  },
  {
   "attachments": {},
   "cell_type": "markdown",
   "metadata": {},
   "source": [
    "## _Del csv e' possibile fare una analisi statistica._"
   ]
  },
  {
   "attachments": {},
   "cell_type": "markdown",
   "metadata": {},
   "source": [
    "In questo caso, viene in aiuto il metodo _describe_.\n",
    "\n",
    "* Rif: [describe](https://pandas.pydata.org/docs/reference/api/pandas.DataFrame.describe.html)"
   ]
  },
  {
   "cell_type": "code",
   "execution_count": null,
   "metadata": {},
   "outputs": [],
   "source": [
    "df.describe()"
   ]
  },
  {
   "attachments": {},
   "cell_type": "markdown",
   "metadata": {},
   "source": [
    "## _Del csv e' possibile scoprire informazioni sui valori nulli, non nulli..._"
   ]
  },
  {
   "attachments": {},
   "cell_type": "markdown",
   "metadata": {},
   "source": [
    "Il metodo _isnull_ in questo caso ritorna un DataFrame analizzabile come quello da cui e' stato estratto. Opposto e' il comportamento di _notnull_.\n",
    "\n",
    "* Rif: [isnull](https://pandas.pydata.org/docs/reference/api/pandas.DataFrame.isnull.html)\n",
    "* Rif: [notnull](https://pandas.pydata.org/docs/reference/api/pandas.DataFrame.notnull.html)"
   ]
  },
  {
   "cell_type": "code",
   "execution_count": null,
   "metadata": {},
   "outputs": [],
   "source": [
    "null_df = df.isnull()\n",
    "notnull_df = df.notnull()"
   ]
  },
  {
   "cell_type": "code",
   "execution_count": null,
   "metadata": {},
   "outputs": [],
   "source": [
    "print(null_df.sum())"
   ]
  },
  {
   "cell_type": "code",
   "execution_count": null,
   "metadata": {},
   "outputs": [],
   "source": [
    "print(df.notnull().sum())"
   ]
  },
  {
   "attachments": {},
   "cell_type": "markdown",
   "metadata": {},
   "source": [
    "## _I valori nulli possono essere rimossi._"
   ]
  },
  {
   "attachments": {},
   "cell_type": "markdown",
   "metadata": {},
   "source": [
    "Possono essere rimosse righe o colonne contenenti valori nulli. Possono essere rimossi solo in caso **tutti** i valori siano nulli o solamenti se lo sono **alcuni**. _dropna_ e' il metodo da utilizzare e, anche in questo caso, resituisce un DataFrame.\n",
    "\n",
    "* Rif: [dropna](https://pandas.pydata.org/docs/reference/api/pandas.DataFrame.dropna.html#pandas.DataFrame.dropna)"
   ]
  },
  {
   "cell_type": "code",
   "execution_count": null,
   "metadata": {},
   "outputs": [],
   "source": [
    "df_dropna = df.dropna()"
   ]
  },
  {
   "cell_type": "code",
   "execution_count": null,
   "metadata": {},
   "outputs": [],
   "source": [
    "df_dropna.info()"
   ]
  },
  {
   "attachments": {},
   "cell_type": "markdown",
   "metadata": {},
   "source": [
    "## _Possono essere fatte analisi mirate sulle colonne._"
   ]
  },
  {
   "attachments": {},
   "cell_type": "markdown",
   "metadata": {},
   "source": [
    "In questo csv sono presenti, ad esempio, due colonne 'Sex' ed 'Embarked' dalle quali possono essere estratte informazioni sulle varie istanze dei dati, la numerosita' per istanza, il tipo..."
   ]
  },
  {
   "cell_type": "code",
   "execution_count": null,
   "metadata": {},
   "outputs": [],
   "source": [
    "df.Sex.value_counts()"
   ]
  },
  {
   "cell_type": "code",
   "execution_count": null,
   "metadata": {},
   "outputs": [],
   "source": [
    "df.Embarked.value_counts()"
   ]
  },
  {
   "attachments": {},
   "cell_type": "markdown",
   "metadata": {},
   "source": [
    "## _Le colonne possono essere rimosse._"
   ]
  },
  {
   "attachments": {},
   "cell_type": "markdown",
   "metadata": {},
   "source": [
    "Per rimuovere una colonna si puo' utilizzare il metodo _drop_ direttamente sul DataFrame, indicando una lista delle colonne da rimuovere.\n",
    "\n",
    "Rif: [drop](https://pandas.pydata.org/docs/reference/api/pandas.DataFrame.drop.html?highlight=drop#pandas.DataFrame.drop)"
   ]
  },
  {
   "cell_type": "code",
   "execution_count": null,
   "metadata": {},
   "outputs": [],
   "source": [
    "df_dropped = df.drop(columns='Cabin')"
   ]
  },
  {
   "cell_type": "code",
   "execution_count": null,
   "metadata": {},
   "outputs": [],
   "source": [
    "df_dropped.info()"
   ]
  }
 ],
 "metadata": {
  "kernelspec": {
   "display_name": "CorsoAI",
   "language": "python",
   "name": "python3"
  },
  "language_info": {
   "codemirror_mode": {
    "name": "ipython",
    "version": 3
   },
   "file_extension": ".py",
   "mimetype": "text/x-python",
   "name": "python",
   "nbconvert_exporter": "python",
   "pygments_lexer": "ipython3",
   "version": "3.12.2"
  },
  "orig_nbformat": 4
 },
 "nbformat": 4,
 "nbformat_minor": 2
}
